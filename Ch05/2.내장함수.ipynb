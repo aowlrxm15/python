{
 "cells": [
  {
   "cell_type": "code",
   "execution_count": 9,
   "metadata": {},
   "outputs": [],
   "source": [
    "\"\"\"\n",
    "날짜:2023-01-06\n",
    "이름:전인준\n",
    "내용:파이썬 내장함수 실습\n",
    "\"\"\"\n",
    "import time\n",
    "import math\n",
    "import random"
   ]
  },
  {
   "cell_type": "code",
   "execution_count": null,
   "metadata": {},
   "outputs": [],
   "source": [
    "# 시간날짜 함수\n",
    "t1 = time.time()\n",
    "print('t1 :', t1)\n",
    "\n",
    "t2 = time.ctime()\n",
    "print('t2 :', t2)\n",
    "\n",
    "now = time.localtime(time.time())\n",
    "year = time.strftime('%Y', now)\n",
    "month = time.strftime('%m', now)\n",
    "date = time.strftime('%d', now)\n",
    "hour = time.strftime('%H', now)\n",
    "min = time.strftime('%M', now)\n",
    "sec = time.strftime('%S', now)\n",
    "\n",
    "print('{}년 {}월 {}일 {}:{}:{}'.format(year, month, date, hour, min, sec))"
   ]
  },
  {
   "cell_type": "code",
   "execution_count": 8,
   "metadata": {},
   "outputs": [
    {
     "name": "stdout",
     "output_type": "stream",
     "text": [
      "r1 :  2\n",
      "r2 :  2\n",
      "r3 :  1\n",
      "r4 :  1\n",
      "r5 :  1\n",
      "r6 :  2\n"
     ]
    }
   ],
   "source": [
    "# 수학 함수\n",
    "r1 = math.ceil(1.2)\n",
    "r2 = math.ceil(1.8)\n",
    "r3 = math.floor(1.2)\n",
    "r4 = math.floor(1.8)\n",
    "r5 = round(1.2)\n",
    "r6 = round(1.8)\n",
    "\n",
    "print('r1 : ', r1)\n",
    "print('r2 : ', r2)\n",
    "print('r3 : ', r3)\n",
    "print('r4 : ', r4)\n",
    "print('r5 : ', r5)\n",
    "print('r6 : ', r6)"
   ]
  },
  {
   "cell_type": "code",
   "execution_count": 35,
   "metadata": {},
   "outputs": [
    {
     "name": "stdout",
     "output_type": "stream",
     "text": [
      "num1 : 0.4636100033076189\n",
      "num2 : 4.63610003307619\n",
      "num3 : 5\n"
     ]
    }
   ],
   "source": [
    "# 랜덤함수\n",
    "num1 = random.random()\n",
    "print('num1 :', num1)\n",
    "\n",
    "num2 = num1 * 10\n",
    "print('num2 :', num2)\n",
    "\n",
    "num3 = math.ceil(num2)\n",
    "print('num3 :', num3)"
   ]
  },
  {
   "cell_type": "code",
   "execution_count": null,
   "metadata": {},
   "outputs": [],
   "source": []
  },
  {
   "cell_type": "code",
   "execution_count": null,
   "metadata": {},
   "outputs": [],
   "source": []
  }
 ],
 "metadata": {
  "kernelspec": {
   "display_name": "Python 3",
   "language": "python",
   "name": "python3"
  },
  "language_info": {
   "codemirror_mode": {
    "name": "ipython",
    "version": 3
   },
   "file_extension": ".py",
   "mimetype": "text/x-python",
   "name": "python",
   "nbconvert_exporter": "python",
   "pygments_lexer": "ipython3",
   "version": "3.11.1"
  },
  "orig_nbformat": 4,
  "vscode": {
   "interpreter": {
    "hash": "80fe2673b528c942ca64edec6ad803eb77b72e74f563615a94309986b90aebbc"
   }
  }
 },
 "nbformat": 4,
 "nbformat_minor": 2
}
