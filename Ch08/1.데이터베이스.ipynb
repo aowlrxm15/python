{
 "cells": [
  {
   "cell_type": "code",
   "execution_count": 2,
   "metadata": {},
   "outputs": [],
   "source": [
    "\"\"\"\n",
    "날짜:2023-01-13\n",
    "이름:전인준\n",
    "내용:파이썬 데이터베이스 실습\n",
    "\"\"\"\n",
    "import pymysql"
   ]
  },
  {
   "cell_type": "code",
   "execution_count": 9,
   "metadata": {},
   "outputs": [
    {
     "name": "stdout",
     "output_type": "stream",
     "text": [
      "Insert 완료...!\n"
     ]
    }
   ],
   "source": [
    "# Insert 실습\n",
    "# 데이터베이스 접속\n",
    "conn = pymysql.connect(host='127.0.0.1',\n",
    "                        user='root',\n",
    "                        passwd='1234',\n",
    "                        db='java2db', \n",
    "                        charset='UTF8')\n",
    "\n",
    "# SQL 실행객체\n",
    "cur = conn.cursor()\n",
    "\n",
    "# SQL 실행\n",
    "sql = \"insert into `user3` values ('a777', '얼죽아', '010-1212-0131', 77)\"\n",
    "cur.execute(sql)\n",
    "conn.commit()\n",
    "\n",
    "# 데이터베이스 종료\n",
    "conn.close()\n",
    "print('Insert 완료...!')"
   ]
  },
  {
   "cell_type": "code",
   "execution_count": 10,
   "metadata": {},
   "outputs": [
    {
     "name": "stdout",
     "output_type": "stream",
     "text": [
      "Update 완료...!\n"
     ]
    }
   ],
   "source": [
    "# Update 실습\n",
    "# 데이터베이스 접속\n",
    "conn = pymysql.connect(host='127.0.0.1',\n",
    "                        user='root',\n",
    "                        passwd='1234',\n",
    "                        db='java2db', \n",
    "                        charset='UTF8')\n",
    "\n",
    "# SQL 실행객체\n",
    "cur = conn.cursor()\n",
    "\n",
    "# SQL 실행\n",
    "sql = \"update `user3` set \"\n",
    "sql += \"`name`='홍길동',\"\n",
    "sql += \"`hp`='010-1234-1234',\"\n",
    "sql += \"`age`=22 \"\n",
    "sql += \"where `uid`='a777'\"\n",
    "\n",
    "cur.execute(sql)\n",
    "conn.commit()\n",
    "\n",
    "# 데이터베이스 종료\n",
    "conn.close()\n",
    "print('Update 완료...!')"
   ]
  },
  {
   "cell_type": "code",
   "execution_count": 5,
   "metadata": {},
   "outputs": [
    {
     "name": "stdout",
     "output_type": "stream",
     "text": [
      "Delete 완료...!\n"
     ]
    }
   ],
   "source": [
    "# Delete 실습\n",
    "# 데이터베이스 접속\n",
    "conn = pymysql.connect(host='127.0.0.1',\n",
    "                        user='root',\n",
    "                        passwd='1234',\n",
    "                        db='java2db', \n",
    "                        charset='UTF8')\n",
    "\n",
    "# SQL 실행객체\n",
    "cur = conn.cursor()\n",
    "\n",
    "# SQL 실행\n",
    "\n",
    "cur.execute(\"delete from `user3` where `uid`='a777'\")\n",
    "conn.commit()\n",
    "\n",
    "# 데이터베이스 종료\n",
    "conn.close()\n",
    "print('Delete 완료...!')"
   ]
  },
  {
   "cell_type": "markdown",
   "metadata": {},
   "source": []
  },
  {
   "cell_type": "code",
   "execution_count": 8,
   "metadata": {},
   "outputs": [
    {
     "name": "stdout",
     "output_type": "stream",
     "text": [
      "Selete 완료...!\n",
      "----------------\n",
      "아이디 : j101\n",
      "이름 : 이황\n",
      "휴대폰 : 010-7894-4567\n",
      "나이 : 20\n",
      "----------------\n",
      "아이디 : j101\n",
      "이름 : 이황\n",
      "휴대폰 : 010-7894-4567\n",
      "나이 : 20\n",
      "----------------\n",
      "아이디 : j101\n",
      "이름 : 이황\n",
      "휴대폰 : 010-7894-4567\n",
      "나이 : 20\n",
      "----------------\n",
      "아이디 : j101\n",
      "이름 : 이황\n",
      "휴대폰 : 010-7894-4567\n",
      "나이 : 20\n",
      "----------------\n",
      "아이디 : j101\n",
      "이름 : 이황\n",
      "휴대폰 : 010-7894-4567\n",
      "나이 : 20\n",
      "----------------\n",
      "아이디 : j101\n",
      "이름 : 이황\n",
      "휴대폰 : 010-7894-4567\n",
      "나이 : 20\n",
      "----------------\n",
      "아이디 : j101\n",
      "이름 : 이황\n",
      "휴대폰 : 010-7894-4567\n",
      "나이 : 20\n"
     ]
    }
   ],
   "source": [
    "# Selete 실습\n",
    "from sub.User3VO import User3VO\n",
    "# 데이터베이스 접속\n",
    "conn = pymysql.connect(host='127.0.0.1',\n",
    "                        user='root',\n",
    "                        passwd='1234',\n",
    "                        db='java2db', \n",
    "                        charset='UTF8')\n",
    "\n",
    "# SQL 실행객체\n",
    "cur = conn.cursor()\n",
    "\n",
    "# SQL 실행\n",
    "\n",
    "cur.execute(\"select * from `user3`\")\n",
    "conn.commit()\n",
    "\n",
    "# 결과 데이터 생성\n",
    "users = []\n",
    "for row in cur.fetchall():\n",
    "    user = User3VO(row[0], row[1], row[2], row[3])\n",
    "    users.append(user)\n",
    "\n",
    "# 데이터베이스 종료\n",
    "conn.close()\n",
    "print('Selete 완료...!')\n",
    "\n",
    "# 결과 출력\n",
    "for user in users:\n",
    "    print('----------------')\n",
    "    print('아이디 :', row[0])\n",
    "    print('이름 :', row[1])\n",
    "    print('휴대폰 :', row[2])\n",
    "    print('나이 :', row[3])"
   ]
  },
  {
   "cell_type": "code",
   "execution_count": null,
   "metadata": {},
   "outputs": [],
   "source": []
  },
  {
   "cell_type": "code",
   "execution_count": null,
   "metadata": {},
   "outputs": [],
   "source": []
  }
 ],
 "metadata": {
  "kernelspec": {
   "display_name": "Python 3",
   "language": "python",
   "name": "python3"
  },
  "language_info": {
   "codemirror_mode": {
    "name": "ipython",
    "version": 3
   },
   "file_extension": ".py",
   "mimetype": "text/x-python",
   "name": "python",
   "nbconvert_exporter": "python",
   "pygments_lexer": "ipython3",
   "version": "3.11.1 (tags/v3.11.1:a7a450f, Dec  6 2022, 19:58:39) [MSC v.1934 64 bit (AMD64)]"
  },
  "orig_nbformat": 4,
  "vscode": {
   "interpreter": {
    "hash": "80fe2673b528c942ca64edec6ad803eb77b72e74f563615a94309986b90aebbc"
   }
  }
 },
 "nbformat": 4,
 "nbformat_minor": 2
}
