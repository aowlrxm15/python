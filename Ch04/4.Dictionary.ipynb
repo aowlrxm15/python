{
 "cells": [
  {
   "cell_type": "code",
   "execution_count": 1,
   "metadata": {},
   "outputs": [
    {
     "data": {
      "text/plain": [
       "'\\n날짜 : 2023-01-04\\n이름 : 전인준\\n내용 : 파이썬 자료구조 Dictionary 실습\\n(key:value 구조)\\n'"
      ]
     },
     "execution_count": 1,
     "metadata": {},
     "output_type": "execute_result"
    }
   ],
   "source": [
    "\"\"\"\n",
    "날짜 : 2023-01-04\n",
    "이름 : 전인준\n",
    "내용 : 파이썬 자료구조 Dictionary 실습\n",
    "(key:value 구조)\n",
    "\"\"\""
   ]
  },
  {
   "cell_type": "code",
   "execution_count": 2,
   "metadata": {},
   "outputs": [
    {
     "name": "stdout",
     "output_type": "stream",
     "text": [
      "data type : <class 'dict'>\n",
      "data : {'A': 'Apple', 'B': 'Banana', 'C': 'Cherry'}\n",
      "data['A'] : Apple\n",
      "data['B'] : Banana\n",
      "data['C'] : Cherry\n"
     ]
    }
   ],
   "source": [
    "# 딕셔너리\n",
    "data = {'A':'Apple', 'B':'Banana', 'C':'Cherry'}\n",
    "\n",
    "print('data type :', type(data))\n",
    "print('data :', data)\n",
    "print(\"data['A'] :\", data['A'])\n",
    "print(\"data['B'] :\", data['B'])\n",
    "print(\"data['C'] :\", data['C'])"
   ]
  },
  {
   "cell_type": "code",
   "execution_count": 6,
   "metadata": {},
   "outputs": [
    {
     "name": "stdout",
     "output_type": "stream",
     "text": [
      "5\n",
      "7\n",
      "김춘추\n"
     ]
    }
   ],
   "source": [
    "# 딕셔너리 활용\n",
    "data = {\n",
    "    101: [1, 2, 3, 4, 5],\n",
    "    102: (6, 7, 8, 9, 10),\n",
    "    103: {'서울', '대전', '대구', '부산', '광주'},\n",
    "    104: {'p1': '김유신', 'p2': '김춘추', 'p3': '장보고'}\n",
    "}\n",
    "\n",
    "print(data[101][4])\n",
    "print(data[102][1])\n",
    "print(data[104]['p2'])"
   ]
  },
  {
   "cell_type": "code",
   "execution_count": 7,
   "metadata": {},
   "outputs": [
    {
     "name": "stdout",
     "output_type": "stream",
     "text": [
      "1 서울\n",
      "2 대전\n",
      "3 대구\n",
      "4 부산\n",
      "5 광주\n"
     ]
    }
   ],
   "source": [
    "# 딕셔너리 반복문\n",
    "\n",
    "data = {1:'서울', 2:'대전', 3:'대구', 4:'부산', 5:'광주'}\n",
    "\n",
    "for k, v in data.items():\n",
    "    print(k, v)"
   ]
  }
 ],
 "metadata": {
  "kernelspec": {
   "display_name": "Python 3",
   "language": "python",
   "name": "python3"
  },
  "language_info": {
   "codemirror_mode": {
    "name": "ipython",
    "version": 3
   },
   "file_extension": ".py",
   "mimetype": "text/x-python",
   "name": "python",
   "nbconvert_exporter": "python",
   "pygments_lexer": "ipython3",
   "version": "3.11.1 (tags/v3.11.1:a7a450f, Dec  6 2022, 19:58:39) [MSC v.1934 64 bit (AMD64)]"
  },
  "orig_nbformat": 4,
  "vscode": {
   "interpreter": {
    "hash": "80fe2673b528c942ca64edec6ad803eb77b72e74f563615a94309986b90aebbc"
   }
  }
 },
 "nbformat": 4,
 "nbformat_minor": 2
}
