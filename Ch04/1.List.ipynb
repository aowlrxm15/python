{
 "cells": [
  {
   "cell_type": "code",
   "execution_count": null,
   "metadata": {},
   "outputs": [],
   "source": [
    "\"\"\"\n",
    "날짜 : 2023-01-04\n",
    "이름 : 전인준\n",
    "내용 : 파이썬 자료구조 List 실습\n",
    "\"\"\""
   ]
  },
  {
   "cell_type": "code",
   "execution_count": 2,
   "metadata": {},
   "outputs": [
    {
     "name": "stdout",
     "output_type": "stream",
     "text": [
      "data type : <class 'list'>\n",
      "data[0] : 1\n",
      "data[2] : 3\n",
      "data[3] : 4\n"
     ]
    }
   ],
   "source": [
    "# 리스트\n",
    "data = [1, 2, 3, 4, 5]\n",
    "print('data type :', type(data))\n",
    "print('data[0] :', data[0])\n",
    "print('data[2] :', data[2])\n",
    "print('data[3] :', data[3])"
   ]
  },
  {
   "cell_type": "code",
   "execution_count": 3,
   "metadata": {},
   "outputs": [
    {
     "name": "stdout",
     "output_type": "stream",
     "text": [
      "data type : <class 'list'>\n",
      "data[0] : 5\n",
      "data[2] : True\n",
      "data[3] : Apple\n"
     ]
    }
   ],
   "source": [
    "# 여러 종류 데이터를 저장하는 리스트\n",
    "data = [5, 3.14, True, 'Apple']\n",
    "print('data type :', type(data))\n",
    "print('data[0] :', data[0])\n",
    "print('data[2] :', data[2])\n",
    "print('data[3] :', data[3])"
   ]
  },
  {
   "cell_type": "code",
   "execution_count": 4,
   "metadata": {},
   "outputs": [
    {
     "name": "stdout",
     "output_type": "stream",
     "text": [
      "data[0][0] : 1\n",
      "data[1][1] : 5\n",
      "data[2][1] : 8\n"
     ]
    }
   ],
   "source": [
    "# 다차원 리스트\n",
    "data = [[1,2,3], \n",
    "        [4,5,6], \n",
    "        [7,8,9]]\n",
    "print('data[0][0] :', data[0][0])\n",
    "print('data[1][1] :', data[1][1])\n",
    "print('data[2][1] :', data[2][1])"
   ]
  },
  {
   "cell_type": "code",
   "execution_count": 8,
   "metadata": {},
   "outputs": [
    {
     "name": "stdout",
     "output_type": "stream",
     "text": [
      "data :  [1, 7, 3, 4, 5]\n",
      "data :  [1, 7, 7, 8, 9, 5]\n",
      "data : [1, 7, 7, 5]\n"
     ]
    }
   ],
   "source": [
    "# 리스트 수정, 추가, 삭제\n",
    "data = [1, 2, 3, 4, 5]\n",
    "data[1] = 7\n",
    "print('data : ',data)\n",
    "\n",
    "data[2:4] = [7, 8, 9]\n",
    "print('data : ',data)\n",
    "\n",
    "data[3:5] = []\n",
    "print('data :', data)\n"
   ]
  },
  {
   "cell_type": "code",
   "execution_count": 12,
   "metadata": {},
   "outputs": [
    {
     "name": "stdout",
     "output_type": "stream",
     "text": [
      "n : 1\n",
      "n : 3\n",
      "n : 5\n",
      "n : 7\n",
      "n : 9\n",
      "city : 서울\n",
      "city : 대전\n",
      "city : 대구\n",
      "city : 부산\n",
      "city : 광주\n",
      "cities[0] : 서울\n",
      "cities[1] : 대전\n",
      "cities[2] : 대구\n",
      "cities[3] : 부산\n",
      "cities[4] : 광주\n"
     ]
    }
   ],
   "source": [
    "# 리스트 반복문\n",
    "for n in [1, 3, 5, 7, 9]:\n",
    "    print('n :', n)\n",
    "\n",
    "cities = ['서울', '대전', '대구', '부산', '광주']\n",
    "for city in cities:\n",
    "    print('city :', city)\n",
    "\n",
    "for index, value in enumerate(cities):\n",
    "    print('cities[%d] : %s' % (index, value))\n",
    "\n"
   ]
  },
  {
   "cell_type": "code",
   "execution_count": 15,
   "metadata": {},
   "outputs": [
    {
     "name": "stdout",
     "output_type": "stream",
     "text": [
      "rs1 : [2, 4, 6, 8, 10]\n",
      "rs2 : [3, 9, 15]\n"
     ]
    }
   ],
   "source": [
    "# 리스트 comprehension\n",
    "data = [1, 2, 3, 4, 5]\n",
    "\n",
    "rs1 = [num * 2 for num in data]\n",
    "print('rs1 :', rs1)\n",
    "rs2 = [num * 3 for num in data if num % 2 == 1]\n",
    "print('rs2 :', rs2)"
   ]
  },
  {
   "cell_type": "code",
   "execution_count": null,
   "metadata": {},
   "outputs": [],
   "source": []
  },
  {
   "cell_type": "code",
   "execution_count": null,
   "metadata": {},
   "outputs": [],
   "source": []
  }
 ],
 "metadata": {
  "kernelspec": {
   "display_name": "Python 3",
   "language": "python",
   "name": "python3"
  },
  "language_info": {
   "codemirror_mode": {
    "name": "ipython",
    "version": 3
   },
   "file_extension": ".py",
   "mimetype": "text/x-python",
   "name": "python",
   "nbconvert_exporter": "python",
   "pygments_lexer": "ipython3",
   "version": "3.11.1"
  },
  "orig_nbformat": 4,
  "vscode": {
   "interpreter": {
    "hash": "80fe2673b528c942ca64edec6ad803eb77b72e74f563615a94309986b90aebbc"
   }
  }
 },
 "nbformat": 4,
 "nbformat_minor": 2
}
