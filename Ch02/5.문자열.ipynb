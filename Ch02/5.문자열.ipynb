{
 "cells": [
  {
   "cell_type": "code",
   "execution_count": null,
   "metadata": {},
   "outputs": [],
   "source": [
    "\"\"\"\n",
    "날짜 : 2023-01-03\n",
    "이름 : 전인준\n",
    "내용 : 파이썬 문자열 실습\n",
    "\"\"\""
   ]
  },
  {
   "cell_type": "code",
   "execution_count": null,
   "metadata": {},
   "outputs": [],
   "source": [
    "#문자열 더하기\n",
    "str1 = 'Hello'\n",
    "str2 = 'world'\n",
    "str3 = str1 + str2\n",
    "str3\n",
    "\n"
   ]
  },
  {
   "cell_type": "code",
   "execution_count": null,
   "metadata": {},
   "outputs": [],
   "source": [
    "#문자열 곱하기\n",
    "str1 = 'Hello!'\n",
    "str2 = str1 * 3\n",
    "str2"
   ]
  },
  {
   "cell_type": "code",
   "execution_count": null,
   "metadata": {},
   "outputs": [],
   "source": [
    "#문자열 길이\n",
    "text = 'Hello World'\n",
    "result = len(text)\n",
    "result"
   ]
  },
  {
   "cell_type": "code",
   "execution_count": null,
   "metadata": {},
   "outputs": [],
   "source": [
    "#문자열 인덱스\n",
    "text = 'Hello World'\n",
    "print('text 1번째 문자 : ', text[0])\n",
    "print('text 7번째 문자 : ', text[6])\n",
    "print('text 뒤에서 첫번째 문자 : ', text[-1])"
   ]
  },
  {
   "cell_type": "code",
   "execution_count": null,
   "metadata": {},
   "outputs": [],
   "source": [
    "# 문자열 자르기\n",
    "text = 'Hello World'\n",
    "print('text 1-5까지 자르기 :', text[0:5])\n",
    "print('text 처음-5까지 자르기 :', text[:5])\n",
    "print('text 6-11까지 자르기 :', text[6:11])\n",
    "print('text 6-마지막까지 자르기 :', text[6:])"
   ]
  },
  {
   "cell_type": "code",
   "execution_count": null,
   "metadata": {},
   "outputs": [],
   "source": [
    "# 문자열 분리\n",
    "cities = '서울^대전^대구^부산^광주'\n",
    "c1 ,c2 ,c3 ,c4 ,c5 = cities.split('^')\n",
    "print('c1 :', c1)\n",
    "print('c2 :', c2)\n",
    "print('c3 :', c3)\n",
    "print('c4 :', c4)\n",
    "print('c5 :', c5)"
   ]
  },
  {
   "cell_type": "code",
   "execution_count": null,
   "metadata": {},
   "outputs": [],
   "source": [
    "# 문자열 이스케이프\n",
    "print('서울\\n대전\\n대구\\n부산\\n광주')\n",
    "print('한국\\t미국\\t일본\\t중국\\t호주')\n",
    "print('안녕하세요 \\'홍길동\\'님 반갑습니다.')\n",
    "print(\"안녕하세요 '홍길동'님 반갑습니다.\")"
   ]
  },
  {
   "cell_type": "code",
   "execution_count": null,
   "metadata": {},
   "outputs": [],
   "source": []
  },
  {
   "cell_type": "code",
   "execution_count": null,
   "metadata": {},
   "outputs": [],
   "source": []
  }
 ],
 "metadata": {
  "language_info": {
   "name": "python"
  },
  "orig_nbformat": 4
 },
 "nbformat": 4,
 "nbformat_minor": 2
}
