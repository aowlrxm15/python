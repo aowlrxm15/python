{
 "cells": [
  {
   "cell_type": "code",
   "execution_count": 1,
   "metadata": {},
   "outputs": [
    {
     "data": {
      "text/plain": [
       "'\\n날짜 : 2023-01-12\\n이름 : 전인준\\n내용 : 파이썬 예외처리 실습\\n'"
      ]
     },
     "execution_count": 1,
     "metadata": {},
     "output_type": "execute_result"
    }
   ],
   "source": [
    "\"\"\"\n",
    "날짜 : 2023-01-12\n",
    "이름 : 전인준\n",
    "내용 : 파이썬 파일 입출력 실습\n",
    "\"\"\""
   ]
  },
  {
   "cell_type": "code",
   "execution_count": null,
   "metadata": {},
   "outputs": [],
   "source": [
    "# 파일읽기(파일 입력)\n",
    "f1 = open('C:/Users/G/Desktop/Test.txt', mode='r', encoding='UTF-8')\n",
    "\n",
    "while True:\n",
    "    line = f1.read()\n",
    "\n",
    "    if not line:\n",
    "        break\n",
    "\n",
    "    print(line)\n",
    "\n",
    "f1.close()"
   ]
  },
  {
   "cell_type": "code",
   "execution_count": 6,
   "metadata": {},
   "outputs": [],
   "source": [
    "# 파일쓰기(파일 출력)\n",
    "f2 = open('C:/Users/G/Desktop/Result.txt', mode='w', encoding='UTF-8')\n",
    "\n",
    "f2.write('안녕하세요.\\n')\n",
    "f2.write('반갑습니다.\\n')\n",
    "f2.write('감사합니다.\\n')\n",
    "f2.close()"
   ]
  },
  {
   "cell_type": "code",
   "execution_count": 10,
   "metadata": {},
   "outputs": [],
   "source": [
    "# 구구단 쓰기\n",
    "f3 = open('C:/Users/G/Desktop/Gugudan.txt', mode='w', encoding='UTF-8')\n",
    "\n",
    "for x in range(2, 10):\n",
    "    f3.write('%d단\\n' % x)\n",
    "\n",
    "    for y in range(1, 10):\n",
    "\n",
    "        z = x * y\n",
    "        f3.write('%d x %d = %d\\n' % (x, y, z))\n",
    "f3.close()"
   ]
  },
  {
   "cell_type": "code",
   "execution_count": null,
   "metadata": {},
   "outputs": [],
   "source": [
    "# 구구단 읽기\n",
    "f4 = open('C:/Users/G/Desktop/Gugudan.txt', mode='r', encoding='UTF-8')\n",
    "while True:\n",
    "    line = f4.read()\n",
    "\n",
    "    if not line:\n",
    "        break\n",
    "\n",
    "    print(line)\n",
    "\n",
    "f4.close"
   ]
  },
  {
   "cell_type": "code",
   "execution_count": null,
   "metadata": {},
   "outputs": [],
   "source": []
  }
 ],
 "metadata": {
  "kernelspec": {
   "display_name": "Python 3",
   "language": "python",
   "name": "python3"
  },
  "language_info": {
   "codemirror_mode": {
    "name": "ipython",
    "version": 3
   },
   "file_extension": ".py",
   "mimetype": "text/x-python",
   "name": "python",
   "nbconvert_exporter": "python",
   "pygments_lexer": "ipython3",
   "version": "3.11.1"
  },
  "orig_nbformat": 4,
  "vscode": {
   "interpreter": {
    "hash": "80fe2673b528c942ca64edec6ad803eb77b72e74f563615a94309986b90aebbc"
   }
  }
 },
 "nbformat": 4,
 "nbformat_minor": 2
}
