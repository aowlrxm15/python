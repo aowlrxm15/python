{
 "cells": [
  {
   "cell_type": "code",
   "execution_count": null,
   "metadata": {},
   "outputs": [],
   "source": [
    "\"\"\"\n",
    "날짜 : 2023-01-03\n",
    "이름 : 전인준\n",
    "내용 : 파이썬 조건문 실습\n",
    "\"\"\""
   ]
  },
  {
   "cell_type": "code",
   "execution_count": null,
   "metadata": {},
   "outputs": [],
   "source": [
    "# if\n",
    "num1, num2 = 1, 2\n",
    "\n",
    "if num1 > 0:\n",
    "    print('num1은 0보다 크다.')\n",
    "\n",
    "if num1 > num2:\n",
    "    print('num1은 num2보다 크다.')\n",
    "\n",
    "if num1 > 0:\n",
    "    if num2 > 1:\n",
    "        print('num1은 0보다 크고 num2는 1보다 크다.')\n",
    "\n",
    "if num1 > 0 and num2 > 1:\n",
    "    print('num1은 0보다 크고 그리고 num2는 1보다 크다.')"
   ]
  },
  {
   "cell_type": "code",
   "execution_count": null,
   "metadata": {},
   "outputs": [],
   "source": [
    "# if ~ else\n",
    "num3, num4 = 3, 4\n",
    "\n",
    "if num3 > num4:\n",
    "    print('num3는 num4보다 크다.')\n",
    "else:\n",
    "    print('num3는 num4보다 작다.')"
   ]
  },
  {
   "cell_type": "code",
   "execution_count": null,
   "metadata": {},
   "outputs": [],
   "source": [
    "# if ~ elif ~ else\n",
    "n1, n2, n3, n4 = 1, 2, 3, 4\n",
    "\n",
    "if n1 > n2:\n",
    "    print('n1은 n2보다 크다.')\n",
    "elif n2 > n3:\n",
    "    print('n2은 n3보다 크다.')\n",
    "elif n3 > n4:\n",
    "    print('n3은 n4보다 크다.')\n",
    "else:\n",
    "    print('n4가 가장 크다.')"
   ]
  },
  {
   "cell_type": "code",
   "execution_count": 2,
   "metadata": {},
   "outputs": [
    {
     "name": "stdout",
     "output_type": "stream",
     "text": [
      "F\n"
     ]
    }
   ],
   "source": [
    "# 연습문제\n",
    "score = int(input('점수입력 :'))\n",
    "\n",
    "\n",
    "\n",
    "if score > 90 and score <= 100:\n",
    "    print('A')\n",
    "elif 80 <= score < 90:\n",
    "    print('B')\n",
    "elif 70 <= score < 80:\n",
    "    print('C')\n",
    "elif 60 <= score < 70:\n",
    "    print('D')\n",
    "else:\n",
    "    print('F입니다.')"
   ]
  },
  {
   "cell_type": "code",
   "execution_count": null,
   "metadata": {},
   "outputs": [],
   "source": []
  },
  {
   "cell_type": "code",
   "execution_count": null,
   "metadata": {},
   "outputs": [],
   "source": []
  }
 ],
 "metadata": {
  "kernelspec": {
   "display_name": "Python 3",
   "language": "python",
   "name": "python3"
  },
  "language_info": {
   "codemirror_mode": {
    "name": "ipython",
    "version": 3
   },
   "file_extension": ".py",
   "mimetype": "text/x-python",
   "name": "python",
   "nbconvert_exporter": "python",
   "pygments_lexer": "ipython3",
   "version": "3.11.1 (tags/v3.11.1:a7a450f, Dec  6 2022, 19:58:39) [MSC v.1934 64 bit (AMD64)]"
  },
  "orig_nbformat": 4,
  "vscode": {
   "interpreter": {
    "hash": "80fe2673b528c942ca64edec6ad803eb77b72e74f563615a94309986b90aebbc"
   }
  }
 },
 "nbformat": 4,
 "nbformat_minor": 2
}
