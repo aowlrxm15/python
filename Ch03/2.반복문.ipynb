{
 "cells": [
  {
   "cell_type": "code",
   "execution_count": null,
   "metadata": {},
   "outputs": [],
   "source": [
    "\"\"\"\n",
    "날짜 : 2023-01-03\n",
    "이름 : 전인준\n",
    "내용 : 파이썬 반복문 while 실습\n",
    "\"\"\""
   ]
  },
  {
   "cell_type": "code",
   "execution_count": 2,
   "metadata": {},
   "outputs": [
    {
     "name": "stdout",
     "output_type": "stream",
     "text": [
      "i : 1\n",
      "i : 2\n",
      "i : 3\n",
      "i : 4\n",
      "i : 5\n"
     ]
    }
   ],
   "source": [
    "# while \n",
    "i = 1\n",
    "\n",
    "\n",
    "while i<=5:\n",
    "    print('i :', i)\n",
    "    i+=1"
   ]
  },
  {
   "cell_type": "code",
   "execution_count": 5,
   "metadata": {},
   "outputs": [
    {
     "name": "stdout",
     "output_type": "stream",
     "text": [
      "1부터 10까지 합 : 55\n"
     ]
    }
   ],
   "source": [
    "# 1부터 10까지 합\n",
    "total, k = 0, 1\n",
    "\n",
    "while k<=10:\n",
    "    total += k\n",
    "    k+=1\n",
    "\n",
    "print('1부터 10까지 합 :', total)"
   ]
  },
  {
   "cell_type": "code",
   "execution_count": 6,
   "metadata": {},
   "outputs": [
    {
     "name": "stdout",
     "output_type": "stream",
     "text": [
      "1부터 10까지 합 : 27\n"
     ]
    }
   ],
   "source": [
    "# 1부터 10까지 짝수합\n",
    "total, k = 0, 1\n",
    "\n",
    "while k<=10:\n",
    "    if k & 2 == 0:\n",
    "        total += k \n",
    "    k+=1\n",
    "\n",
    "print('1부터 10까지 합 :', total)"
   ]
  },
  {
   "cell_type": "code",
   "execution_count": 3,
   "metadata": {},
   "outputs": [
    {
     "name": "stdout",
     "output_type": "stream",
     "text": [
      "5와 7의 최소공배수 : 35\n"
     ]
    }
   ],
   "source": [
    "# break\n",
    "num = 1\n",
    "\n",
    "while True:\n",
    "    if num % 5 == 0 and num % 7 == 0:\n",
    "        break\n",
    "    num += 1\n",
    "\n",
    "print('5와 7의 최소공배수 :', num)"
   ]
  },
  {
   "cell_type": "code",
   "execution_count": 7,
   "metadata": {},
   "outputs": [
    {
     "name": "stdout",
     "output_type": "stream",
     "text": [
      "1 3 5 7 9 "
     ]
    }
   ],
   "source": [
    "# continue\n",
    "n =0\n",
    "\n",
    "while n <= 9:\n",
    "    n += 1\n",
    "\n",
    "    if n % 2 == 0:\n",
    "        continue\n",
    "    print(n, end=' ')"
   ]
  },
  {
   "cell_type": "code",
   "execution_count": null,
   "metadata": {},
   "outputs": [],
   "source": []
  },
  {
   "cell_type": "code",
   "execution_count": null,
   "metadata": {},
   "outputs": [],
   "source": []
  },
  {
   "cell_type": "code",
   "execution_count": null,
   "metadata": {},
   "outputs": [],
   "source": []
  },
  {
   "cell_type": "code",
   "execution_count": null,
   "metadata": {},
   "outputs": [],
   "source": []
  },
  {
   "cell_type": "code",
   "execution_count": null,
   "metadata": {},
   "outputs": [],
   "source": []
  }
 ],
 "metadata": {
  "kernelspec": {
   "display_name": "Python 3",
   "language": "python",
   "name": "python3"
  },
  "language_info": {
   "codemirror_mode": {
    "name": "ipython",
    "version": 3
   },
   "file_extension": ".py",
   "mimetype": "text/x-python",
   "name": "python",
   "nbconvert_exporter": "python",
   "pygments_lexer": "ipython3",
   "version": "3.11.1"
  },
  "orig_nbformat": 4,
  "vscode": {
   "interpreter": {
    "hash": "80fe2673b528c942ca64edec6ad803eb77b72e74f563615a94309986b90aebbc"
   }
  }
 },
 "nbformat": 4,
 "nbformat_minor": 2
}
